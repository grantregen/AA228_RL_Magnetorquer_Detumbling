{
 "cells": [
  {
   "cell_type": "code",
   "execution_count": 1,
   "metadata": {},
   "outputs": [
    {
     "ename": "LoadError",
     "evalue": "syntax: extra token \"angular\" after end of expression",
     "output_type": "error",
     "traceback": [
      "syntax: extra token \"angular\" after end of expression",
      "",
      "Stacktrace:",
      " [1] top-level scope",
      "   @ In[1]:1"
     ]
    }
   ],
   "source": [
    "get angular rate to zero. all satelilte have imu, that gies gyroscope data (spin rate"
   ]
  },
  {
   "cell_type": "code",
   "execution_count": 2,
   "metadata": {},
   "outputs": [
    {
     "ename": "LoadError",
     "evalue": "syntax: extra token \"data\" after end of expression",
     "output_type": "error",
     "traceback": [
      "syntax: extra token \"data\" after end of expression",
      "",
      "Stacktrace:",
      " [1] top-level scope",
      "   @ In[2]:3"
     ]
    }
   ],
   "source": [
    "#take those measurements as our results. reward is functino of out spin rate.can make it more\n",
    "#advanced by adding a power cost to do the movement. by modifying reward function. reward(time, power cost, and spin change)\n",
    "inputs: state data will be magentometer data and current spin rate. tor\n",
    "#input: current change in magnetic fileld at snapshot (Bdot) and urrent spin on satellite wo\n",
    "action: is moment im creating and amount of time ill create it forstart w t as a constant at .001\n",
    "then use that to create the torque, which will tell me the new spin spped wf"
   ]
  },
  {
   "cell_type": "code",
   "execution_count": 3,
   "metadata": {},
   "outputs": [
    {
     "name": "stderr",
     "output_type": "stream",
     "text": [
      "\u001b[32m\u001b[1m    Updating\u001b[22m\u001b[39m registry at `~/.julia/registries/General.toml`\n",
      "\u001b[32m\u001b[1m   Resolving\u001b[22m\u001b[39m package versions...\n",
      "\u001b[32m\u001b[1m  No Changes\u001b[22m\u001b[39m to `~/.julia/environments/v1.8/Project.toml`\n",
      "\u001b[32m\u001b[1m  No Changes\u001b[22m\u001b[39m to `~/.julia/environments/v1.8/Manifest.toml`\n",
      "\u001b[32m\u001b[1m   Resolving\u001b[22m\u001b[39m package versions...\n",
      "\u001b[32m\u001b[1m  No Changes\u001b[22m\u001b[39m to `~/.julia/environments/v1.8/Project.toml`\n",
      "\u001b[32m\u001b[1m  No Changes\u001b[22m\u001b[39m to `~/.julia/environments/v1.8/Manifest.toml`\n"
     ]
    },
    {
     "data": {
      "application/vnd.webio.node+json": {
       "children": [],
       "instanceArgs": {
        "namespace": "html",
        "tag": "div"
       },
       "nodeType": "DOM",
       "props": {},
       "type": "node"
      },
      "text/html": [
       "<div style=\"padding: 1em; background-color: #f8d6da; border: 1px solid #f5c6cb; font-weight: bold;\">\n",
       "<p>The WebIO Jupyter extension was not detected. See the\n",
       "<a href=\"https://juliagizmos.github.io/WebIO.jl/latest/providers/ijulia/\" target=\"_blank\">\n",
       "    WebIO Jupyter integration documentation\n",
       "</a>\n",
       "for more information.\n",
       "</div>\n"
      ],
      "text/plain": [
       "WebIO._IJuliaInit()"
      ]
     },
     "metadata": {},
     "output_type": "display_data"
    }
   ],
   "source": [
    "import Pkg\n",
    "Pkg.add(\"Plotly\")\n",
    "using Pkg\n",
    "Pkg.add(\"Interpolations\")\n",
    "using Interpolations\n",
    "using Plotly\n",
    "using LinearAlgebra"
   ]
  },
  {
   "cell_type": "code",
   "execution_count": 4,
   "metadata": {},
   "outputs": [
    {
     "data": {
      "text/plain": [
       "findnearestindex (generic function with 1 method)"
      ]
     },
     "execution_count": 4,
     "metadata": {},
     "output_type": "execute_result"
    }
   ],
   "source": [
    "function findnearestindex(minimum,maximum,numsteps,value)\n",
    "    normalized_value = max(0 , min(((value - minimum)/(maximum - minimum)), 0.999999))\n",
    "    new_index = floor(Int, 1 + (normalized_value * numsteps))\n",
    "    return new_index\n",
    "end"
   ]
  },
  {
   "cell_type": "code",
   "execution_count": 5,
   "metadata": {},
   "outputs": [
    {
     "data": {
      "text/plain": [
       "update! (generic function with 1 method)"
      ]
     },
     "execution_count": 5,
     "metadata": {},
     "output_type": "execute_result"
    }
   ],
   "source": [
    "mutable struct Sarsa\n",
    "   S\n",
    "    A\n",
    "    Y\n",
    "    Q\n",
    "    alpha\n",
    "    L\n",
    "end\n",
    "\n",
    "function update!(model::Sarsa, s, a, r, sprime)\n",
    "    if model.L != nothing\n",
    "        Y, Q, alpha, L = model.Y, model.Q, model.alpha, model.L\n",
    "#         print(\"L\\n\")\n",
    "#         print(L)\n",
    "#         print(\"s\")\n",
    "#         print(s)\n",
    "#         print(\"a\")\n",
    "#         print(a)\n",
    "#         print(\"Q[s,a]\")\n",
    "#         print(Q[s,a])\n",
    "#         print(\"Q[L.s, L.a]\")\n",
    "#         print(Q[L.s, L.a])\n",
    "        model.Q[L.s, L.a] += alpha * (L.r + Y * Q[s,a] - Q[L.s, L.a])\n",
    "    end\n",
    "    model.L = (s=s, a=a, r=r)\n",
    "    return model\n",
    "end\n",
    "\n"
   ]
  },
  {
   "cell_type": "code",
   "execution_count": 6,
   "metadata": {},
   "outputs": [
    {
     "ename": "LoadError",
     "evalue": "UndefVarError: BDot_solution not defined",
     "output_type": "error",
     "traceback": [
      "UndefVarError: BDot_solution not defined",
      "",
      "Stacktrace:",
      " [1] beginLearning(start_state::Tuple{Tuple{Float64, Float64, Float64}, Tuple{Float64, Float64, Float64}}, states::Vector{Any}, actions::Vector{Any})",
      "   @ Main ./In[6]:47",
      " [2] top-level scope",
      "   @ In[6]:125"
     ]
    }
   ],
   "source": [
    "data = []\n",
    "#state space, min max spin rates (omegaxyz) and magentic field (bx,by,bz)\n",
    "#action is the moment\n",
    "#there is julia function where i can input min, max, and step sizes\n",
    "\n",
    "\n",
    "num_states = 100\n",
    "\n",
    "\n",
    "\n",
    "\n",
    "#new transitions are random mag fields\n",
    "# -3 to 3, 100 total divisions for spin rate\n",
    "# -7 t8 10^-5 to 7 *10^-5\n",
    "#action is moment, between -1 and 1 for each dimension\n",
    "function beginLearning(start_state, states, actions)\n",
    "    #time is constant\n",
    "    Q = zeros(size(states)[1], size(actions)[1])\n",
    "    epsilon = .2\n",
    "    first_action = rand(actions)\n",
    "    first_action_index = findfirst(isequal(first_action), actions)\n",
    "    first_state_index = findfirst(isequal(start_state), states)\n",
    "    sarsa_struct = Sarsa(size(states)[1], size(actions)[1], .95, Q, .07, (s=first_state_index, a=first_action_index, r=0))\n",
    "    #init_action = get_action(start_state)\n",
    "    #newState = transition(start_state, init_action)\n",
    "    w0 = start_state[2]\n",
    "    curr_state = start_state\n",
    "    ten_most_recent = Array{Tuple{Float64, Float64, Float64}}(undef,10)\n",
    "    recent_index = 1\n",
    "    range_actions = collect(range(start = (-1), length=num_divisions_for_state, stop=(1)))\n",
    "    spin_range = collect(range(start = (-3), length=num_divisions_for_state, stop=(3)))\n",
    "    \n",
    "    i_max = 10^7\n",
    "    for i=1:i_max\n",
    "        ten_most_recent[recent_index] = curr_state[2]\n",
    "        if i%100000 == 0\n",
    "           print(i,\"/\",i_max,\"\\n\") \n",
    "        end\n",
    "        \n",
    "        #next_state = transition(curr_state, action)\n",
    "        #bdot\n",
    "        if (rand() < epsilon)\n",
    "            vectorized_B = [i for i in curr_state[1]] \n",
    "            vectorized_w = [i for i in curr_state[2]]\n",
    "            #interp now\n",
    "\n",
    "            exact_action = BDot_solution(vectorized_B, vectorized_w; ω_0=w0)\n",
    "            #findnearestindex(min,max,numsteps,value)\n",
    "            nearest_action_x_index = findnearestindex(-1,1,num_divisions_for_state,exact_action[1])\n",
    "            nearest_action_y_index = findnearestindex(-1,1,num_divisions_for_state,exact_action[2])\n",
    "            nearest_action_z_index = findnearestindex(-1,1,num_divisions_for_state,exact_action[3])\n",
    "            #action_interper = scale(interpolate(actions, BSpline(Constant())), range(start = (-1), length=num_divisions_for_state, stop=(1)))\n",
    "\n",
    "            actionx = range_actions[nearest_action_x_index]\n",
    "            actiony = range_actions[nearest_action_y_index]\n",
    "            actionz = range_actions[nearest_action_z_index]\n",
    "            action = (actionx, actiony, actionz)\n",
    "            action_index = findfirst(isequal(action), actions)\n",
    "            vectorized_action = [i for i in action]\n",
    "\n",
    "\n",
    "            new_spin = Determine_ω(vectorized_B, vectorized_w, vectorized_action; time_step=1, I=I_sapling, time=0)\n",
    "            nearest_spin_x_index = findnearestindex(-3, 3, num_divisions_for_state, new_spin[1])\n",
    "            nearest_spin_y_index = findnearestindex(-3, 3, num_divisions_for_state, new_spin[2])\n",
    "            nearest_spin_z_index = findnearestindex(-3, 3, num_divisions_for_state, new_spin[3])\n",
    "\n",
    "            new_spin_x = spin_range[nearest_spin_x_index]\n",
    "            new_spin_y = spin_range[nearest_spin_y_index]\n",
    "            new_spin_z = spin_range[nearest_spin_z_index]\n",
    "            next_state = (curr_state[1], (new_spin_x, new_spin_y, new_spin_z))\n",
    "            \n",
    "\n",
    "            curr_state_index = findfirst(isequal(curr_state), states)\n",
    "            next_state_index = findfirst(isequal(next_state), states)\n",
    "        #random\n",
    "        else\n",
    "            next_state = rand(states)\n",
    "            action = rand(actions)\n",
    "            action_index = findfirst(isequal(action), actions)\n",
    "            curr_state_index = findfirst(isequal(curr_state), states)\n",
    "            next_state_index = findfirst(isequal(next_state), states)\n",
    "        end\n",
    "\n",
    "        update!(sarsa_struct, curr_state_index, action_index, Calculate_Reward(curr_state[2], next_state[2], w0), next_state_index)\n",
    "        curr_state = next_state\n",
    "        recent_index += 1\n",
    "        if (recent_index > 10)\n",
    "           recent_index = 1 \n",
    "        end\n",
    "    end\n",
    "    return Q\n",
    "end\n",
    "\n",
    "#collect(Iterators.product(-2:2, 3:5, 1:2))\n",
    "\n",
    "num_divisions_for_state = 10\n",
    "range_of_magfields = collect(range(start = (-7*10^(-5)), length=num_divisions_for_state, stop=(7*10^(-5))))\n",
    "range_of_spinrates = collect(range(start = (-3), length=num_divisions_for_state, stop=(3)))\n",
    "states = []\n",
    "b_norm = 7*10^-5\n",
    "b_const = (1,0,0)\n",
    "b = (b_const[1] * b_norm, b_const[2] * b_norm, b_const[3] * b_norm)\n",
    "#print(b)\n",
    "for omegax in range_of_spinrates\n",
    "   for omegay in range_of_spinrates\n",
    "       for omegaz in range_of_spinrates\n",
    "           push!(states, (b, (omegax, omegay, omegaz))) \n",
    "        end\n",
    "    end\n",
    "end\n",
    "actions = []\n",
    "range_actions = collect(range(start = (-1), length=num_divisions_for_state, stop=(1)))\n",
    "for x in range_actions\n",
    "   for y in range_actions\n",
    "       for z in range_actions\n",
    "            push!(actions, (x,y,z))\n",
    "        end\n",
    "    end\n",
    "end\n",
    "#\n",
    "\n",
    "#itp = interpolate(A, BSpline(Cubic(Line(OnGrid()))))\n",
    "\n",
    "\n",
    "Q = beginLearning(rand(states),states,actions)\n",
    "\n",
    "#collect(Iterators.product((range_of_magfields, range_of_magfields)))\n"
   ]
  },
  {
   "cell_type": "code",
   "execution_count": 7,
   "metadata": {},
   "outputs": [
    {
     "ename": "LoadError",
     "evalue": "UndefVarError: Q not defined",
     "output_type": "error",
     "traceback": [
      "UndefVarError: Q not defined",
      "",
      "Stacktrace:",
      " [1] top-level scope",
      "   @ In[7]:1"
     ]
    }
   ],
   "source": [
    "policy = mapslices(argmax, Q, dims=2)\n",
    "range_of_spinrates = collect(range(start = (-3), length=num_divisions_for_state, stop=(3)))\n",
    "\n",
    "function simulate(policy, starting_state, states, actions; \n",
    "                    time_initial = 0, time_span = 60*2, time_step=1)\n",
    "    time_hist = [time_initial]\n",
    "    state_hist = [starting_state]\n",
    "    time_end = time_initial + time_span\n",
    "    time = time_initial\n",
    "    curr_state = starting_state\n",
    "    while time < time_end\n",
    "        time = time_hist[end]\n",
    "        curr_state = state_hist[end]\n",
    "        \n",
    "        # find coresponding discretized state\n",
    "        w_x = findnearestindex(-3, 3, num_divisions_for_state, curr_state[2][1])\n",
    "        w_y = findnearestindex(-3, 3, num_divisions_for_state, curr_state[2][2])\n",
    "        w_z = findnearestindex(-3, 3, num_divisions_for_state, curr_state[2][3])\n",
    "        discretized_state = (curr_state[1], (range_of_spinrates[w_x], range_of_spinrates[w_y], range_of_spinrates[w_z]))\n",
    "        curr_state_index = findfirst(isequal(discretized_state), states)\n",
    "        # find action         \n",
    "        action_index = policy[curr_state_index]\n",
    "        action = actions[action_index]\n",
    "        # determine new state\n",
    "        vectorized_B = [i for i in discretized_state[1]] \n",
    "        vectorized_w = [i for i in curr_state[2]]\n",
    "        vectorized_action = [i for i in action]\n",
    "        new_spin = Determine_ω(vectorized_B, vectorized_w, vectorized_action; time_step=time_step, I=I_sapling, time=time)\n",
    "        push!(time_hist, time+time_step)\n",
    "        push!(state_hist, (curr_state[1],(new_spin[1], new_spin[2], new_spin[3])))        \n",
    "    end\n",
    "    return(time_hist, state_hist)\n",
    "end"
   ]
  },
  {
   "cell_type": "code",
   "execution_count": 8,
   "metadata": {},
   "outputs": [
    {
     "ename": "LoadError",
     "evalue": "UndefVarError: simulate not defined",
     "output_type": "error",
     "traceback": [
      "UndefVarError: simulate not defined",
      "",
      "Stacktrace:",
      " [1] top-level scope",
      "   @ In[8]:1"
     ]
    }
   ],
   "source": [
    "time_hist, state_hist = simulate(policy, rand(states), states, actions; time_initial = 0, time_span = 60*2, time_step=1)"
   ]
  },
  {
   "cell_type": "code",
   "execution_count": null,
   "metadata": {},
   "outputs": [],
   "source": []
  },
  {
   "cell_type": "code",
   "execution_count": 9,
   "metadata": {},
   "outputs": [
    {
     "data": {
      "text/plain": [
       "Calculate_Reward (generic function with 1 method)"
      ]
     },
     "execution_count": 9,
     "metadata": {},
     "output_type": "execute_result"
    }
   ],
   "source": [
    "# functions for RL Model\n",
    "I_sapling = [0.00165567, 0.00167717, 0.00178716] # kg*m^2\n",
    "ω_0 = [deg2rad(3.),deg2rad(3.),deg2rad(3.)] # rad/sec\n",
    "b_norm = 7*10^-5 # Tesla\n",
    "b_const = [1,0,0]\n",
    "\n",
    "\"\"\"\n",
    "    Euler Equations with applied torque conditions used with numerical propogator\n",
    "    to propogate angular velocity\n",
    "\"\"\"\n",
    "function EulerEquations(ω, time, I, M)\n",
    "    # calculate dω/dt\n",
    "    dωdt = [(M[1]-((I[3]-I[2])*ω[2]*ω[3]))/I[1], (M[2]-((I[1]-I[3])*ω[3]*ω[1]))/I[2], (M[3]-((I[2]-I[1])*ω[1]*ω[2]))/I[3]]\n",
    "end\n",
    "\n",
    "# RKF45 constants (to be stored in seperate file)\n",
    "const A2 = 2. / 9.\n",
    "const A3 = 1. / 3.\n",
    "const A4 = 3. / 4.\n",
    "const A5 = 1.\n",
    "const A6 = 5. / 6.\n",
    "const B21 = 2. / 9.\n",
    "const B31 = 1. / 12.\n",
    "const B41 = 69. / 128.\n",
    "const B51 = -17. / 12.\n",
    "const B61 = 65. / 432.\n",
    "const B32 = 1. / 4.\n",
    "const B42 = -243. / 128.\n",
    "const B52 = 27. / 4.\n",
    "const B62 = -5. / 16.\n",
    "const B43 = 135. / 64.\n",
    "const B53 = -27. / 5.\n",
    "const B63 = 13. / 16.\n",
    "const B54 = 16. / 15.\n",
    "const B64 = 4. / 27.\n",
    "const B65  = 5. / 144.\n",
    "const CH1 = 47. / 450.\n",
    "const CH2 = 0.\n",
    "const CH3 = 12. / 25.\n",
    "const CH4 = 32. / 225.\n",
    "const CH5 = 1. / 30.\n",
    "const CH6 = 6. / 25.\n",
    "const CT1 = -1. / 150.\n",
    "const CT2 = 0.\n",
    "const CT3 = 3. / 100.\n",
    "const CT4 = -16. / 75.\n",
    "const CT5 = -1. / 20.\n",
    "const CT6 = 6. / 25.\n",
    "\n",
    "# https://en.wikipedia.org/wiki/Runge%E2%80%93Kutta%E2%80%93Fehlberg_method\n",
    "function RK45(x, time, step, dxdt)\n",
    "    # compute k1 through k6\n",
    "    k1 = step * dxdt(x, time)\n",
    "    modifier = B21 * k1\n",
    "    k2 = step * dxdt(x + modifier, time + (A2 * step))\n",
    "    modifier = B31 * k1 + B32 * k2\n",
    "    k3 = step * dxdt(x + modifier, time + (A3 * step))\n",
    "    modifier = B41 * k1 + B42 * k2 + B43 * k3\n",
    "    k4 = step * dxdt(x + modifier, time + (A4 * step))\n",
    "    modifier = B51 * k1 + B52 * k2 + B53 * k3 + B54 * k4\n",
    "    k5 = step * dxdt(x + modifier, time + (A5 * step))\n",
    "    modifier = B61 * k1 + B62 * k2 + B63 * k3 + B64 * k4 + B65 * k5\n",
    "    k6 = step * dxdt(x + modifier, time + (A6 * step))\n",
    "    # compute weighted average\n",
    "    x_new = x + CH1 * k1 + CH2 * k2 + CH3 * k3 + CH4 * k4 + CH5 * k5 + CH6 * k6\n",
    "    # compute error\n",
    "    error = abs.(CT1 * k1 + CT2 * k2 + CT3 * k3 + CT4 * k4 + CT5 * k5 + CT6 * k6)\n",
    "    # NOTE: we can add in adaptive time steps here if we want...\n",
    "    # return new x values and numerical integration error\n",
    "    return(x_new, error)\n",
    "end\n",
    "\n",
    "function BDot_solution(B, ω; ω_0=ω_0)\n",
    "    B_dot = cross(-ω,B)\n",
    "    B_dot_body_norm = B_dot/norm(B_dot)\n",
    "    M = -(1 - (norm(ω_0)-norm(ω))/norm(ω_0))*B_dot_body_norm\n",
    "    return(M)\n",
    "end\n",
    "\n",
    "#random avtion/moment in nongreedy case. rand(of normal distribution give it )\n",
    "function Determine_ω(B, ω, M; time_step=1, I=I_sapling, time=0)\n",
    "    torque = cross(M,B)\n",
    "    EulerEquations_M(ω, time) = EulerEquations(ω, time, I, torque)\n",
    "    ω_new, error = RK45(ω, time, .1, EulerEquations_M)\n",
    "    return ω_new\n",
    "end\n",
    "\n",
    "function Calculate_Reward(ω_prev, ω_new, ω_0)\n",
    "   reward = (norm(ω_prev) - norm(ω_new))^3\n",
    "   if norm(ω_new) > norm(ω_0)\n",
    "        reward *= 100\n",
    "   end\n",
    "   return reward \n",
    "end"
   ]
  },
  {
   "cell_type": "code",
   "execution_count": null,
   "metadata": {},
   "outputs": [],
   "source": []
  }
 ],
 "metadata": {
  "kernelspec": {
   "display_name": "Julia 1.8.5",
   "language": "julia",
   "name": "julia-1.8"
  },
  "language_info": {
   "file_extension": ".jl",
   "mimetype": "application/julia",
   "name": "julia",
   "version": "1.8.5"
  }
 },
 "nbformat": 4,
 "nbformat_minor": 4
}
